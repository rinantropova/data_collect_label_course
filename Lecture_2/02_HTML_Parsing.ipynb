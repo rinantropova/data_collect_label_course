{
 "cells": [
  {
   "cell_type": "markdown",
   "id": "7dd04071-8d86-401f-bc53-3c9179ad5a9c",
   "metadata": {},
   "source": [
    "# HTML Parsing. BeautifulSoup"
   ]
  },
  {
   "cell_type": "markdown",
   "id": "af4c84fa-297c-4648-a11d-4a8e850f7b13",
   "metadata": {},
   "source": [
    "## Скрейпинг и парсинг данных одной страницы"
   ]
  },
  {
   "cell_type": "code",
   "execution_count": 1,
   "id": "7bc92e39-2946-460f-8b66-79735d582f7e",
   "metadata": {},
   "outputs": [],
   "source": [
    "from bs4 import BeautifulSoup\n",
    "import requests\n",
    "import pandas as pd"
   ]
  },
  {
   "cell_type": "code",
   "execution_count": 2,
   "id": "99314b7b-7c24-44cd-8ac0-f9db5ef87099",
   "metadata": {},
   "outputs": [],
   "source": [
    "# web-page \n",
    "website = 'https://apteka.de/online-shop/allergie-heuschnupfen'"
   ]
  },
  {
   "cell_type": "code",
   "execution_count": 3,
   "id": "ddfc6b39-ebb1-4555-9b51-28eb4053c2c5",
   "metadata": {},
   "outputs": [],
   "source": [
    "# get-request to the server\n",
    "page = requests.get(website)"
   ]
  },
  {
   "cell_type": "code",
   "execution_count": 4,
   "id": "836ba06a-8e69-4b2c-821e-a04759d174fe",
   "metadata": {},
   "outputs": [
    {
     "data": {
      "text/plain": [
       "200"
      ]
     },
     "execution_count": 4,
     "metadata": {},
     "output_type": "execute_result"
    }
   ],
   "source": [
    "# check of the response status from the server\n",
    "page.status_code"
   ]
  },
  {
   "cell_type": "code",
   "execution_count": 5,
   "id": "113994da-12e3-4667-89d4-4ab8815da4f8",
   "metadata": {},
   "outputs": [
    {
     "data": {
      "text/plain": [
       "str"
      ]
     },
     "execution_count": 5,
     "metadata": {},
     "output_type": "execute_result"
    }
   ],
   "source": [
    "type(page.text)"
   ]
  },
  {
   "cell_type": "code",
   "execution_count": 6,
   "id": "bf21233e-3c4b-4d63-8edf-38f326f13956",
   "metadata": {},
   "outputs": [
    {
     "data": {
      "text/plain": [
       "bytes"
      ]
     },
     "execution_count": 6,
     "metadata": {},
     "output_type": "execute_result"
    }
   ],
   "source": [
    "type(page.content)"
   ]
  },
  {
   "cell_type": "code",
   "execution_count": 7,
   "id": "001ec716-8c0c-4517-b26e-fb545acbfc07",
   "metadata": {},
   "outputs": [],
   "source": [
    "# data parsing\n",
    "soup = BeautifulSoup(page.content, 'html.parser')"
   ]
  },
  {
   "cell_type": "code",
   "execution_count": 32,
   "id": "ff26ea03-4cca-42b3-8ecd-47f1e1f07e0c",
   "metadata": {},
   "outputs": [],
   "source": [
    "# page.text"
   ]
  },
  {
   "cell_type": "code",
   "execution_count": 33,
   "id": "35d216a8-a26b-43e6-8417-644a5f76a92f",
   "metadata": {},
   "outputs": [],
   "source": [
    "# soup"
   ]
  },
  {
   "cell_type": "code",
   "execution_count": 14,
   "id": "5ba2abe3-76e6-4d86-bf10-559ffb42c75b",
   "metadata": {},
   "outputs": [],
   "source": [
    "# search by the tag <div>\n",
    "result = soup.find_all('div', ('class','product-box-container'))"
   ]
  },
  {
   "cell_type": "code",
   "execution_count": 17,
   "id": "1e7eddd7-3587-4285-a220-a114dcf15cb9",
   "metadata": {},
   "outputs": [
    {
     "data": {
      "text/plain": [
       "24"
      ]
     },
     "execution_count": 17,
     "metadata": {},
     "output_type": "execute_result"
    }
   ],
   "source": [
    "len(result)"
   ]
  },
  {
   "cell_type": "code",
   "execution_count": 16,
   "id": "12db7405-786a-451f-8867-e8a73b5a0358",
   "metadata": {},
   "outputs": [
    {
     "data": {
      "text/plain": [
       "bs4.element.ResultSet"
      ]
     },
     "execution_count": 16,
     "metadata": {},
     "output_type": "execute_result"
    }
   ],
   "source": [
    "type(result)"
   ]
  },
  {
   "cell_type": "markdown",
   "id": "65e98c93-492d-44f0-9152-f077b8569703",
   "metadata": {},
   "source": [
    "## Скрейпинг ссылок на каждый товар"
   ]
  },
  {
   "cell_type": "code",
   "execution_count": 20,
   "id": "65db1611-53dd-4309-8119-11a40970b7c2",
   "metadata": {},
   "outputs": [],
   "source": [
    "# First part of the link\n",
    "url_1 = 'https://apteka.de'"
   ]
  },
  {
   "cell_type": "code",
   "execution_count": 23,
   "id": "35222c06-954a-43d0-94b0-95a97d000e92",
   "metadata": {},
   "outputs": [],
   "source": [
    "# Extracting list of relative links to products\n",
    "url_2 = []\n",
    "for i in result:\n",
    "    for link in i.find_all('div', ('class', 'product-box__image')):\n",
    "        url_2.append(link.find('a').get('href'))"
   ]
  },
  {
   "cell_type": "code",
   "execution_count": 24,
   "id": "93f79f7e-a4a8-4361-bcd6-774778c49e58",
   "metadata": {},
   "outputs": [
    {
     "data": {
      "text/plain": [
       "24"
      ]
     },
     "execution_count": 24,
     "metadata": {},
     "output_type": "execute_result"
    }
   ],
   "source": [
    "len(url_2)"
   ]
  },
  {
   "cell_type": "code",
   "execution_count": 25,
   "id": "29f14f29-3e45-43eb-b67d-03971b00ef6e",
   "metadata": {},
   "outputs": [],
   "source": [
    "import urllib.parse"
   ]
  },
  {
   "cell_type": "code",
   "execution_count": 26,
   "id": "f7535a12-f069-4586-ae2e-84890e24fac8",
   "metadata": {},
   "outputs": [],
   "source": [
    "# Joining 2 urls into absolute path and creating a list with urls to each product, placed at the page\n",
    "url_joined = []\n",
    "for link in url_2:\n",
    "    url_joined.append(urllib.parse.urljoin(url_1, link))"
   ]
  },
  {
   "cell_type": "code",
   "execution_count": 27,
   "id": "66201c7c-1aff-439a-81d9-f4822d9e51d6",
   "metadata": {},
   "outputs": [
    {
     "data": {
      "text/plain": [
       "['https://apteka.de/online-kaufen/allegra-allergietabletten-20-mg-18113489',\n",
       " 'https://apteka.de/online-kaufen/allergodil-akut-forte-1-5-mg-ml-nasenspray-loesung-17510656',\n",
       " 'https://apteka.de/online-kaufen/vividrin-azelastin-edo-bei-heuschnupfen-und-allergien-17538554',\n",
       " 'https://apteka.de/online-kaufen/desloratadin-adgc-5-mg-filmtabletten-17145955',\n",
       " 'https://apteka.de/online-kaufen/desloratadin-adgc-5-mg-filmtabletten-17145949',\n",
       " 'https://apteka.de/online-kaufen/desloratadin-adgc-5-mg-filmtabletten-17145932',\n",
       " 'https://apteka.de/online-kaufen/abtei-meersalz-nasen-spray-16893833',\n",
       " 'https://apteka.de/online-kaufen/desloratadin-heumann-5-mg-filmtabletten-16938180',\n",
       " 'https://apteka.de/online-kaufen/desloratadin-heumann-5-mg-filmtabletten-16938174',\n",
       " 'https://apteka.de/online-kaufen/desloratadin-heumann-5-mg-filmtabletten-16938145',\n",
       " 'https://apteka.de/online-kaufen/desloratadin-heumann-5-mg-filmtabletten-16908368',\n",
       " 'https://apteka.de/online-kaufen/allvent-intens-kapseln-16881391',\n",
       " 'https://apteka.de/online-kaufen/levocetirizin-micro-labs-5-mg-filmtabletten-16821029',\n",
       " 'https://apteka.de/online-kaufen/levocetirizin-micro-labs-5-mg-filmtabletten-16821012',\n",
       " 'https://apteka.de/online-kaufen/levocetirizin-micro-labs-5-mg-filmtabletten-16821006',\n",
       " 'https://apteka.de/online-kaufen/mometason-beta-heuschnupfenspray-14374141',\n",
       " 'https://apteka.de/online-kaufen/mometason-beta-heuschnupfenspray-14374112',\n",
       " 'https://apteka.de/online-kaufen/desloratadin-glenmark-5-mg-tabletten-16605320',\n",
       " 'https://apteka.de/online-kaufen/desloratadin-stada-5-mg-filmtabletten-16610048',\n",
       " 'https://apteka.de/online-kaufen/desloratadin-stada-5-mg-filmtabletten-16610031',\n",
       " 'https://apteka.de/online-kaufen/desloratadin-stada-5-mg-filmtabletten-16610025',\n",
       " 'https://apteka.de/online-kaufen/levoceti-abz-5-mg-filmtabletten-bei-allergien-15318825',\n",
       " 'https://apteka.de/online-kaufen/levoceti-abz-5-mg-filmtabletten-bei-allergien-15318819',\n",
       " 'https://apteka.de/online-kaufen/levoceti-abz-5-mg-filmtabletten-bei-allergien-15318802']"
      ]
     },
     "execution_count": 27,
     "metadata": {},
     "output_type": "execute_result"
    }
   ],
   "source": [
    "url_joined"
   ]
  },
  {
   "cell_type": "markdown",
   "id": "889937ca-1028-45bb-8dde-7488b542dc06",
   "metadata": {},
   "source": [
    "## Extracting data of one product"
   ]
  },
  {
   "cell_type": "code",
   "execution_count": 28,
   "id": "b2349435-28b1-4fb7-ab50-48588cd84ca7",
   "metadata": {},
   "outputs": [],
   "source": [
    "# Link to the first product\n",
    "first_link = url_joined[0]"
   ]
  },
  {
   "cell_type": "code",
   "execution_count": 29,
   "id": "87a3b533-a86b-4ae6-8bf7-3bd907685f7d",
   "metadata": {},
   "outputs": [],
   "source": [
    "# GET-request to server\n",
    "response = requests.get(first_link)"
   ]
  },
  {
   "cell_type": "code",
   "execution_count": 30,
   "id": "e1157d16-539f-423f-a32e-bc937d2173f3",
   "metadata": {},
   "outputs": [],
   "source": [
    "soup = BeautifulSoup(response.content, 'html.parser')"
   ]
  },
  {
   "cell_type": "code",
   "execution_count": 34,
   "id": "fdc82601-bd50-42d8-b050-028e76f1444d",
   "metadata": {},
   "outputs": [],
   "source": [
    "# soup"
   ]
  },
  {
   "cell_type": "code",
   "execution_count": 45,
   "id": "4a03f2dd-d93c-4683-9fd2-972cd2bb9568",
   "metadata": {},
   "outputs": [
    {
     "data": {
      "text/plain": [
       "'Allegra Allergietabletten 20 mg 20\\xa0St'"
      ]
     },
     "execution_count": 45,
     "metadata": {},
     "output_type": "execute_result"
    }
   ],
   "source": [
    "# Parsing of product title\n",
    "name = soup.find('h1', ('class', 'h2 mt-0 sm:mb-6')).text\n",
    "name"
   ]
  },
  {
   "cell_type": "code",
   "execution_count": 36,
   "id": "e2f70142-716d-4d67-a383-40ad00126712",
   "metadata": {},
   "outputs": [],
   "source": [
    "import re"
   ]
  },
  {
   "cell_type": "code",
   "execution_count": 41,
   "id": "1abd308a-43f6-407e-99ad-3ba39922e87e",
   "metadata": {},
   "outputs": [],
   "source": [
    "form = soup.find('div', string=re.compile(\"Форма выпуска:\"))"
   ]
  },
  {
   "cell_type": "code",
   "execution_count": 42,
   "id": "8a5f7412-9123-4c18-982f-a41026b84770",
   "metadata": {},
   "outputs": [
    {
     "data": {
      "text/plain": [
       "'Tabletten'"
      ]
     },
     "execution_count": 42,
     "metadata": {},
     "output_type": "execute_result"
    }
   ],
   "source": [
    "form.get_text(strip=True)[15:]"
   ]
  },
  {
   "cell_type": "code",
   "execution_count": 44,
   "id": "dc67f63c-7d12-4b2c-b65c-d7e8affbc55e",
   "metadata": {},
   "outputs": [
    {
     "data": {
      "text/plain": [
       "'Tabletten'"
      ]
     },
     "execution_count": 44,
     "metadata": {},
     "output_type": "execute_result"
    }
   ],
   "source": [
    "# парсинг формы выпуска\n",
    "form = soup.find('div', string=re.compile(\"Форма выпуска:\")).get_text(strip=True)[15:]\n",
    "form"
   ]
  },
  {
   "cell_type": "code",
   "execution_count": 46,
   "id": "33050158-4b6c-4498-8650-4577a23af440",
   "metadata": {},
   "outputs": [
    {
     "data": {
      "text/plain": [
       "'Содержание:\\n    20\\xa0St'"
      ]
     },
     "execution_count": 46,
     "metadata": {},
     "output_type": "execute_result"
    }
   ],
   "source": [
    "# Content parsing\n",
    "content = soup.find('div', string=re.compile('Содержание:')).get_text(strip=True)\n",
    "content"
   ]
  },
  {
   "cell_type": "code",
   "execution_count": 47,
   "id": "c6cf3611-dec2-4961-b8ef-a0911f62fb5b",
   "metadata": {},
   "outputs": [
    {
     "data": {
      "text/plain": [
       "20"
      ]
     },
     "execution_count": 47,
     "metadata": {},
     "output_type": "execute_result"
    }
   ],
   "source": [
    "content = int(re.findall(r'\\d+', content)[0])\n",
    "content"
   ]
  },
  {
   "cell_type": "code",
   "execution_count": 48,
   "id": "d00fedee-346f-46ce-a74d-2a26fe631528",
   "metadata": {},
   "outputs": [
    {
     "data": {
      "text/plain": [
       "'A. Nattermann & Cie GmbH'"
      ]
     },
     "execution_count": 48,
     "metadata": {},
     "output_type": "execute_result"
    }
   ],
   "source": [
    "# Producer parsing\n",
    "manufacturer = soup.find('div', string=re.compile(\"Производитель:\")).get_text(strip=True)[15:]\n",
    "manufacturer"
   ]
  },
  {
   "cell_type": "code",
   "execution_count": 49,
   "id": "4c1e1a8e-2f95-4e7d-9622-1c53f00df072",
   "metadata": {},
   "outputs": [
    {
     "data": {
      "text/plain": [
       "'7,79\\xa0€'"
      ]
     },
     "execution_count": 49,
     "metadata": {},
     "output_type": "execute_result"
    }
   ],
   "source": [
    "# Price parsing\n",
    "price = soup.find('p', ('class', 'price-details text-grey-darker text-4xl font-sans font-bold mb-0')).find('span').text\n",
    "price"
   ]
  },
  {
   "cell_type": "code",
   "execution_count": 50,
   "id": "48957c2d-189f-49cd-97e4-ca68f731ccfa",
   "metadata": {},
   "outputs": [
    {
     "data": {
      "text/plain": [
       "str"
      ]
     },
     "execution_count": 50,
     "metadata": {},
     "output_type": "execute_result"
    }
   ],
   "source": [
    "type(price)"
   ]
  },
  {
   "cell_type": "code",
   "execution_count": 51,
   "id": "e460dc4a-6d90-4d8d-ac34-ff2a17cb41a0",
   "metadata": {},
   "outputs": [],
   "source": [
    "price = price.replace(',', '.')"
   ]
  },
  {
   "cell_type": "code",
   "execution_count": 52,
   "id": "b89f5675-1d3a-4f18-ba0e-6c1ce116bfe2",
   "metadata": {},
   "outputs": [
    {
     "data": {
      "text/plain": [
       "'7.79'"
      ]
     },
     "execution_count": 52,
     "metadata": {},
     "output_type": "execute_result"
    }
   ],
   "source": [
    "price = re.sub(r'[^\\d.]+', '', price)\n",
    "price"
   ]
  },
  {
   "cell_type": "code",
   "execution_count": 53,
   "id": "a3b0442d-7c29-41ef-943f-425b4dc1cbe7",
   "metadata": {},
   "outputs": [
    {
     "data": {
      "text/plain": [
       "7.79"
      ]
     },
     "execution_count": 53,
     "metadata": {},
     "output_type": "execute_result"
    }
   ],
   "source": [
    "float(price)"
   ]
  },
  {
   "cell_type": "markdown",
   "id": "c37c4fdd-8730-41a5-a429-f2c1e30d236f",
   "metadata": {},
   "source": [
    "## Joining everything - scraping and parsing of all products from the web-page"
   ]
  },
  {
   "cell_type": "code",
   "execution_count": 65,
   "id": "cab95389-040e-4f06-ae0e-ddcfd42d1063",
   "metadata": {},
   "outputs": [],
   "source": [
    "# Empty lists that will keep data\n",
    "name = []\n",
    "price = []\n",
    "form = []\n",
    "content = []\n",
    "manufacturer = []"
   ]
  },
  {
   "cell_type": "code",
   "execution_count": 66,
   "id": "20321563-c15b-4bb7-a51e-8a76c6403fc5",
   "metadata": {},
   "outputs": [],
   "source": [
    "# Empty dictionary\n",
    "output = {}"
   ]
  },
  {
   "cell_type": "code",
   "execution_count": 67,
   "id": "82e8b3ac-e179-4e04-8a28-45c513ba32bb",
   "metadata": {},
   "outputs": [],
   "source": [
    "# loop in urls list\n",
    "for i in url_joined:\n",
    "    response = requests.get(i)\n",
    "    soup = BeautifulSoup(response.content, 'html.parser')\n",
    "\n",
    "# Product title parsing. Handling exception: adding empty line\n",
    "    try:\n",
    "        name.append(soup.find('h1', ('class', 'h2 mt-0 sm:mb-6')).text)\n",
    "    except:\n",
    "        name.append('')\n",
    "\n",
    "# Product price parsing\n",
    "    try:\n",
    "        p = soup.find('p', ('class', 'price-details text-grey-darker text-4xl font-sans font-bold mb-0')).find('span').text\n",
    "        p = p.replace(',', '.')\n",
    "        p = float(re.sub(r'[^\\d.]+', '', p))\n",
    "        price.append(p)\n",
    "    except:\n",
    "        price.append('')\n",
    "\n",
    "# Product type parsing\n",
    "    try:\n",
    "        form.append(soup.find('div', string=re.compile(\"Форма выпуска:\")).get_text(strip=True)[15:])\n",
    "    except:\n",
    "        form.append('')\n",
    "\n",
    "# Content parsing\n",
    "    try:\n",
    "        cont = soup.find('div', string=re.compile('Содержание:')).get_text(strip=True)\n",
    "        cont = int(re.findall(r'\\d+', cont)[0])\n",
    "        content.append(cont)\n",
    "    except:\n",
    "        content.append('')\n",
    "\n",
    "# Manufacturer parsing\n",
    "    try:\n",
    "        manufacturer.append(soup.find('div', string=re.compile(\"Производитель:\")).get_text(strip=True)[15:])\n",
    "    except:\n",
    "        manufacturer.append('')\n",
    "\n",
    "# Adding data to the dictionary\n",
    "    output = {'Name': name, 'Price': price, 'Form': form, 'Content': content, 'Manufacturer': manufacturer}"
   ]
  },
  {
   "cell_type": "code",
   "execution_count": 68,
   "id": "4ffc287e-2b22-4b63-8162-909cedd67ee2",
   "metadata": {},
   "outputs": [
    {
     "data": {
      "text/plain": [
       "{'Name': ['Allegra Allergietabletten 20 mg 20\\xa0St',\n",
       "  'Allergodil akut forte 1,5 mg/ml Nasenspray Lösung 10\\xa0ml',\n",
       "  'Vividrin Azelastin EDO, bei Heuschnupfen und Allergien 20X0.6\\xa0ml',\n",
       "  'Desloratadin-Adgc 5 mg Filmtabletten 100\\xa0St',\n",
       "  'Desloratadin-Adgc 5 mg Filmtabletten 50\\xa0St',\n",
       "  'Desloratadin-Adgc 5 mg Filmtabletten 20\\xa0St',\n",
       "  'Abtei Meersalz Nasen Spray 20\\xa0ml',\n",
       "  'Desloratadin Heumann 5 mg Filmtabletten 100\\xa0St',\n",
       "  'Desloratadin Heumann 5 mg Filmtabletten 50\\xa0St',\n",
       "  'Desloratadin Heumann 5 mg Filmtabletten 20\\xa0St',\n",
       "  'Desloratadin Heumann 5 mg Filmtabletten 10\\xa0St',\n",
       "  'Allvent intens Kapseln 60\\xa0St',\n",
       "  'Levocetirizin Micro Labs 5 mg Filmtabletten 100\\xa0St',\n",
       "  'Levocetirizin Micro Labs 5 mg Filmtabletten 50\\xa0St',\n",
       "  'Levocetirizin Micro Labs 5 mg Filmtabletten 20\\xa0St',\n",
       "  'Mometason beta Heuschnupfenspray 18\\xa0g',\n",
       "  'Mometason beta Heuschnupfenspray 10\\xa0g',\n",
       "  'Desloratadin Glenmark 5 mg Tabletten 7\\xa0St',\n",
       "  'Desloratadin Stada 5 mg Filmtabletten 100\\xa0St',\n",
       "  'Desloratadin Stada 5 mg Filmtabletten 50\\xa0St',\n",
       "  'Desloratadin Stada 5 mg Filmtabletten 20\\xa0St',\n",
       "  'Levoceti-AbZ 5 mg Filmtabletten bei Allergien 50\\xa0St',\n",
       "  'Levoceti-AbZ 5 mg Filmtabletten bei Allergien 20\\xa0St',\n",
       "  'Levoceti-AbZ 5 mg Filmtabletten bei Allergien 100\\xa0St'],\n",
       " 'Price': [7.79,\n",
       "  9.69,\n",
       "  6.99,\n",
       "  15.56,\n",
       "  8.32,\n",
       "  3.95,\n",
       "  4.3,\n",
       "  39.45,\n",
       "  22.06,\n",
       "  9.97,\n",
       "  5.75,\n",
       "  42.5,\n",
       "  26.12,\n",
       "  14.4,\n",
       "  6.62,\n",
       "  13.9,\n",
       "  8.76,\n",
       "  4.26,\n",
       "  18.99,\n",
       "  9.99,\n",
       "  10.85,\n",
       "  16.26,\n",
       "  7.66,\n",
       "  14.49],\n",
       " 'Form': ['Tabletten',\n",
       "  'Nasenspray',\n",
       "  'Augentropfen',\n",
       "  'Filmtabletten',\n",
       "  'Filmtabletten',\n",
       "  'Filmtabletten',\n",
       "  'Nasenspray',\n",
       "  'Filmtabletten',\n",
       "  'Filmtabletten',\n",
       "  'Filmtabletten',\n",
       "  'Filmtabletten',\n",
       "  'Kapseln',\n",
       "  'Filmtabletten',\n",
       "  'Filmtabletten',\n",
       "  'Filmtabletten',\n",
       "  'Nasenspray',\n",
       "  'Nasenspray',\n",
       "  'Tabletten',\n",
       "  'Filmtabletten',\n",
       "  'Filmtabletten',\n",
       "  'Filmtabletten',\n",
       "  'Filmtabletten',\n",
       "  'Filmtabletten',\n",
       "  'Filmtabletten'],\n",
       " 'Content': [20,\n",
       "  10,\n",
       "  20,\n",
       "  100,\n",
       "  50,\n",
       "  20,\n",
       "  20,\n",
       "  100,\n",
       "  50,\n",
       "  20,\n",
       "  10,\n",
       "  60,\n",
       "  100,\n",
       "  50,\n",
       "  20,\n",
       "  18,\n",
       "  10,\n",
       "  7,\n",
       "  100,\n",
       "  50,\n",
       "  20,\n",
       "  50,\n",
       "  20,\n",
       "  100],\n",
       " 'Manufacturer': ['A. Nattermann & Cie GmbH',\n",
       "  'Viatris Healthcare GmbH',\n",
       "  'Dr. Gerhard Mann Chem.-pharm.Fabrik GmbH',\n",
       "  'Zentiva Pharma GmbH',\n",
       "  'Zentiva Pharma GmbH',\n",
       "  'Zentiva Pharma GmbH',\n",
       "  'Perrigo Deutschland GmbH',\n",
       "  'HEUMANN PHARMA GmbH & Co. Generica KG',\n",
       "  'HEUMANN PHARMA GmbH & Co. Generica KG',\n",
       "  'HEUMANN PHARMA GmbH & Co. Generica KG',\n",
       "  'HEUMANN PHARMA GmbH & Co. Generica KG',\n",
       "  'WEBER & WEBER GmbH',\n",
       "  'Micro Labs GmbH',\n",
       "  'Micro Labs GmbH',\n",
       "  'Micro Labs GmbH',\n",
       "  'betapharm Arzneimittel GmbH',\n",
       "  'betapharm Arzneimittel GmbH',\n",
       "  'Glenmark Arzneimittel GmbH',\n",
       "  'STADA Consumer Health Deutschland GmbH',\n",
       "  'STADA Consumer Health Deutschland GmbH',\n",
       "  'STADA Consumer Health Deutschland GmbH',\n",
       "  'AbZ Pharma GmbH',\n",
       "  'AbZ Pharma GmbH',\n",
       "  'AbZ Pharma GmbH']}"
      ]
     },
     "execution_count": 68,
     "metadata": {},
     "output_type": "execute_result"
    }
   ],
   "source": [
    "output"
   ]
  },
  {
   "cell_type": "code",
   "execution_count": 69,
   "id": "16a43e70-2cb0-4e60-be38-f3d29dc28128",
   "metadata": {},
   "outputs": [],
   "source": [
    "df = pd.DataFrame(output)"
   ]
  },
  {
   "cell_type": "code",
   "execution_count": 70,
   "id": "203d2744-b68e-4765-982b-8d8533b04253",
   "metadata": {},
   "outputs": [
    {
     "data": {
      "text/html": [
       "<div>\n",
       "<style scoped>\n",
       "    .dataframe tbody tr th:only-of-type {\n",
       "        vertical-align: middle;\n",
       "    }\n",
       "\n",
       "    .dataframe tbody tr th {\n",
       "        vertical-align: top;\n",
       "    }\n",
       "\n",
       "    .dataframe thead th {\n",
       "        text-align: right;\n",
       "    }\n",
       "</style>\n",
       "<table border=\"1\" class=\"dataframe\">\n",
       "  <thead>\n",
       "    <tr style=\"text-align: right;\">\n",
       "      <th></th>\n",
       "      <th>Name</th>\n",
       "      <th>Price</th>\n",
       "      <th>Form</th>\n",
       "      <th>Content</th>\n",
       "      <th>Manufacturer</th>\n",
       "    </tr>\n",
       "  </thead>\n",
       "  <tbody>\n",
       "    <tr>\n",
       "      <th>0</th>\n",
       "      <td>Allegra Allergietabletten 20 mg 20 St</td>\n",
       "      <td>7.79</td>\n",
       "      <td>Tabletten</td>\n",
       "      <td>20</td>\n",
       "      <td>A. Nattermann &amp; Cie GmbH</td>\n",
       "    </tr>\n",
       "    <tr>\n",
       "      <th>1</th>\n",
       "      <td>Allergodil akut forte 1,5 mg/ml Nasenspray Lös...</td>\n",
       "      <td>9.69</td>\n",
       "      <td>Nasenspray</td>\n",
       "      <td>10</td>\n",
       "      <td>Viatris Healthcare GmbH</td>\n",
       "    </tr>\n",
       "    <tr>\n",
       "      <th>2</th>\n",
       "      <td>Vividrin Azelastin EDO, bei Heuschnupfen und A...</td>\n",
       "      <td>6.99</td>\n",
       "      <td>Augentropfen</td>\n",
       "      <td>20</td>\n",
       "      <td>Dr. Gerhard Mann Chem.-pharm.Fabrik GmbH</td>\n",
       "    </tr>\n",
       "    <tr>\n",
       "      <th>3</th>\n",
       "      <td>Desloratadin-Adgc 5 mg Filmtabletten 100 St</td>\n",
       "      <td>15.56</td>\n",
       "      <td>Filmtabletten</td>\n",
       "      <td>100</td>\n",
       "      <td>Zentiva Pharma GmbH</td>\n",
       "    </tr>\n",
       "    <tr>\n",
       "      <th>4</th>\n",
       "      <td>Desloratadin-Adgc 5 mg Filmtabletten 50 St</td>\n",
       "      <td>8.32</td>\n",
       "      <td>Filmtabletten</td>\n",
       "      <td>50</td>\n",
       "      <td>Zentiva Pharma GmbH</td>\n",
       "    </tr>\n",
       "    <tr>\n",
       "      <th>5</th>\n",
       "      <td>Desloratadin-Adgc 5 mg Filmtabletten 20 St</td>\n",
       "      <td>3.95</td>\n",
       "      <td>Filmtabletten</td>\n",
       "      <td>20</td>\n",
       "      <td>Zentiva Pharma GmbH</td>\n",
       "    </tr>\n",
       "    <tr>\n",
       "      <th>6</th>\n",
       "      <td>Abtei Meersalz Nasen Spray 20 ml</td>\n",
       "      <td>4.30</td>\n",
       "      <td>Nasenspray</td>\n",
       "      <td>20</td>\n",
       "      <td>Perrigo Deutschland GmbH</td>\n",
       "    </tr>\n",
       "    <tr>\n",
       "      <th>7</th>\n",
       "      <td>Desloratadin Heumann 5 mg Filmtabletten 100 St</td>\n",
       "      <td>39.45</td>\n",
       "      <td>Filmtabletten</td>\n",
       "      <td>100</td>\n",
       "      <td>HEUMANN PHARMA GmbH &amp; Co. Generica KG</td>\n",
       "    </tr>\n",
       "    <tr>\n",
       "      <th>8</th>\n",
       "      <td>Desloratadin Heumann 5 mg Filmtabletten 50 St</td>\n",
       "      <td>22.06</td>\n",
       "      <td>Filmtabletten</td>\n",
       "      <td>50</td>\n",
       "      <td>HEUMANN PHARMA GmbH &amp; Co. Generica KG</td>\n",
       "    </tr>\n",
       "    <tr>\n",
       "      <th>9</th>\n",
       "      <td>Desloratadin Heumann 5 mg Filmtabletten 20 St</td>\n",
       "      <td>9.97</td>\n",
       "      <td>Filmtabletten</td>\n",
       "      <td>20</td>\n",
       "      <td>HEUMANN PHARMA GmbH &amp; Co. Generica KG</td>\n",
       "    </tr>\n",
       "    <tr>\n",
       "      <th>10</th>\n",
       "      <td>Desloratadin Heumann 5 mg Filmtabletten 10 St</td>\n",
       "      <td>5.75</td>\n",
       "      <td>Filmtabletten</td>\n",
       "      <td>10</td>\n",
       "      <td>HEUMANN PHARMA GmbH &amp; Co. Generica KG</td>\n",
       "    </tr>\n",
       "    <tr>\n",
       "      <th>11</th>\n",
       "      <td>Allvent intens Kapseln 60 St</td>\n",
       "      <td>42.50</td>\n",
       "      <td>Kapseln</td>\n",
       "      <td>60</td>\n",
       "      <td>WEBER &amp; WEBER GmbH</td>\n",
       "    </tr>\n",
       "    <tr>\n",
       "      <th>12</th>\n",
       "      <td>Levocetirizin Micro Labs 5 mg Filmtabletten 10...</td>\n",
       "      <td>26.12</td>\n",
       "      <td>Filmtabletten</td>\n",
       "      <td>100</td>\n",
       "      <td>Micro Labs GmbH</td>\n",
       "    </tr>\n",
       "    <tr>\n",
       "      <th>13</th>\n",
       "      <td>Levocetirizin Micro Labs 5 mg Filmtabletten 50 St</td>\n",
       "      <td>14.40</td>\n",
       "      <td>Filmtabletten</td>\n",
       "      <td>50</td>\n",
       "      <td>Micro Labs GmbH</td>\n",
       "    </tr>\n",
       "    <tr>\n",
       "      <th>14</th>\n",
       "      <td>Levocetirizin Micro Labs 5 mg Filmtabletten 20 St</td>\n",
       "      <td>6.62</td>\n",
       "      <td>Filmtabletten</td>\n",
       "      <td>20</td>\n",
       "      <td>Micro Labs GmbH</td>\n",
       "    </tr>\n",
       "    <tr>\n",
       "      <th>15</th>\n",
       "      <td>Mometason beta Heuschnupfenspray 18 g</td>\n",
       "      <td>13.90</td>\n",
       "      <td>Nasenspray</td>\n",
       "      <td>18</td>\n",
       "      <td>betapharm Arzneimittel GmbH</td>\n",
       "    </tr>\n",
       "    <tr>\n",
       "      <th>16</th>\n",
       "      <td>Mometason beta Heuschnupfenspray 10 g</td>\n",
       "      <td>8.76</td>\n",
       "      <td>Nasenspray</td>\n",
       "      <td>10</td>\n",
       "      <td>betapharm Arzneimittel GmbH</td>\n",
       "    </tr>\n",
       "    <tr>\n",
       "      <th>17</th>\n",
       "      <td>Desloratadin Glenmark 5 mg Tabletten 7 St</td>\n",
       "      <td>4.26</td>\n",
       "      <td>Tabletten</td>\n",
       "      <td>7</td>\n",
       "      <td>Glenmark Arzneimittel GmbH</td>\n",
       "    </tr>\n",
       "    <tr>\n",
       "      <th>18</th>\n",
       "      <td>Desloratadin Stada 5 mg Filmtabletten 100 St</td>\n",
       "      <td>18.99</td>\n",
       "      <td>Filmtabletten</td>\n",
       "      <td>100</td>\n",
       "      <td>STADA Consumer Health Deutschland GmbH</td>\n",
       "    </tr>\n",
       "    <tr>\n",
       "      <th>19</th>\n",
       "      <td>Desloratadin Stada 5 mg Filmtabletten 50 St</td>\n",
       "      <td>9.99</td>\n",
       "      <td>Filmtabletten</td>\n",
       "      <td>50</td>\n",
       "      <td>STADA Consumer Health Deutschland GmbH</td>\n",
       "    </tr>\n",
       "    <tr>\n",
       "      <th>20</th>\n",
       "      <td>Desloratadin Stada 5 mg Filmtabletten 20 St</td>\n",
       "      <td>10.85</td>\n",
       "      <td>Filmtabletten</td>\n",
       "      <td>20</td>\n",
       "      <td>STADA Consumer Health Deutschland GmbH</td>\n",
       "    </tr>\n",
       "    <tr>\n",
       "      <th>21</th>\n",
       "      <td>Levoceti-AbZ 5 mg Filmtabletten bei Allergien ...</td>\n",
       "      <td>16.26</td>\n",
       "      <td>Filmtabletten</td>\n",
       "      <td>50</td>\n",
       "      <td>AbZ Pharma GmbH</td>\n",
       "    </tr>\n",
       "    <tr>\n",
       "      <th>22</th>\n",
       "      <td>Levoceti-AbZ 5 mg Filmtabletten bei Allergien ...</td>\n",
       "      <td>7.66</td>\n",
       "      <td>Filmtabletten</td>\n",
       "      <td>20</td>\n",
       "      <td>AbZ Pharma GmbH</td>\n",
       "    </tr>\n",
       "    <tr>\n",
       "      <th>23</th>\n",
       "      <td>Levoceti-AbZ 5 mg Filmtabletten bei Allergien ...</td>\n",
       "      <td>14.49</td>\n",
       "      <td>Filmtabletten</td>\n",
       "      <td>100</td>\n",
       "      <td>AbZ Pharma GmbH</td>\n",
       "    </tr>\n",
       "  </tbody>\n",
       "</table>\n",
       "</div>"
      ],
      "text/plain": [
       "                                                 Name  Price           Form  \\\n",
       "0               Allegra Allergietabletten 20 mg 20 St   7.79      Tabletten   \n",
       "1   Allergodil akut forte 1,5 mg/ml Nasenspray Lös...   9.69     Nasenspray   \n",
       "2   Vividrin Azelastin EDO, bei Heuschnupfen und A...   6.99   Augentropfen   \n",
       "3         Desloratadin-Adgc 5 mg Filmtabletten 100 St  15.56  Filmtabletten   \n",
       "4          Desloratadin-Adgc 5 mg Filmtabletten 50 St   8.32  Filmtabletten   \n",
       "5          Desloratadin-Adgc 5 mg Filmtabletten 20 St   3.95  Filmtabletten   \n",
       "6                    Abtei Meersalz Nasen Spray 20 ml   4.30     Nasenspray   \n",
       "7      Desloratadin Heumann 5 mg Filmtabletten 100 St  39.45  Filmtabletten   \n",
       "8       Desloratadin Heumann 5 mg Filmtabletten 50 St  22.06  Filmtabletten   \n",
       "9       Desloratadin Heumann 5 mg Filmtabletten 20 St   9.97  Filmtabletten   \n",
       "10      Desloratadin Heumann 5 mg Filmtabletten 10 St   5.75  Filmtabletten   \n",
       "11                       Allvent intens Kapseln 60 St  42.50        Kapseln   \n",
       "12  Levocetirizin Micro Labs 5 mg Filmtabletten 10...  26.12  Filmtabletten   \n",
       "13  Levocetirizin Micro Labs 5 mg Filmtabletten 50 St  14.40  Filmtabletten   \n",
       "14  Levocetirizin Micro Labs 5 mg Filmtabletten 20 St   6.62  Filmtabletten   \n",
       "15              Mometason beta Heuschnupfenspray 18 g  13.90     Nasenspray   \n",
       "16              Mometason beta Heuschnupfenspray 10 g   8.76     Nasenspray   \n",
       "17          Desloratadin Glenmark 5 mg Tabletten 7 St   4.26      Tabletten   \n",
       "18       Desloratadin Stada 5 mg Filmtabletten 100 St  18.99  Filmtabletten   \n",
       "19        Desloratadin Stada 5 mg Filmtabletten 50 St   9.99  Filmtabletten   \n",
       "20        Desloratadin Stada 5 mg Filmtabletten 20 St  10.85  Filmtabletten   \n",
       "21  Levoceti-AbZ 5 mg Filmtabletten bei Allergien ...  16.26  Filmtabletten   \n",
       "22  Levoceti-AbZ 5 mg Filmtabletten bei Allergien ...   7.66  Filmtabletten   \n",
       "23  Levoceti-AbZ 5 mg Filmtabletten bei Allergien ...  14.49  Filmtabletten   \n",
       "\n",
       "    Content                              Manufacturer  \n",
       "0        20                  A. Nattermann & Cie GmbH  \n",
       "1        10                   Viatris Healthcare GmbH  \n",
       "2        20  Dr. Gerhard Mann Chem.-pharm.Fabrik GmbH  \n",
       "3       100                       Zentiva Pharma GmbH  \n",
       "4        50                       Zentiva Pharma GmbH  \n",
       "5        20                       Zentiva Pharma GmbH  \n",
       "6        20                  Perrigo Deutschland GmbH  \n",
       "7       100     HEUMANN PHARMA GmbH & Co. Generica KG  \n",
       "8        50     HEUMANN PHARMA GmbH & Co. Generica KG  \n",
       "9        20     HEUMANN PHARMA GmbH & Co. Generica KG  \n",
       "10       10     HEUMANN PHARMA GmbH & Co. Generica KG  \n",
       "11       60                        WEBER & WEBER GmbH  \n",
       "12      100                           Micro Labs GmbH  \n",
       "13       50                           Micro Labs GmbH  \n",
       "14       20                           Micro Labs GmbH  \n",
       "15       18               betapharm Arzneimittel GmbH  \n",
       "16       10               betapharm Arzneimittel GmbH  \n",
       "17        7                Glenmark Arzneimittel GmbH  \n",
       "18      100    STADA Consumer Health Deutschland GmbH  \n",
       "19       50    STADA Consumer Health Deutschland GmbH  \n",
       "20       20    STADA Consumer Health Deutschland GmbH  \n",
       "21       50                           AbZ Pharma GmbH  \n",
       "22       20                           AbZ Pharma GmbH  \n",
       "23      100                           AbZ Pharma GmbH  "
      ]
     },
     "execution_count": 70,
     "metadata": {},
     "output_type": "execute_result"
    }
   ],
   "source": [
    "df"
   ]
  },
  {
   "cell_type": "markdown",
   "id": "29e86feb-aeee-4ec4-8d21-b8d5f874da35",
   "metadata": {},
   "source": [
    "## Pagination - scraping from several pages"
   ]
  },
  {
   "cell_type": "code",
   "execution_count": 71,
   "id": "f49e4884-c4c2-4e40-84bd-0f895ae4a586",
   "metadata": {},
   "outputs": [],
   "source": [
    "name = []\n",
    "price = []\n",
    "form = []\n",
    "content = []\n",
    "manufacturer = []\n",
    "output = {}\n",
    "\n",
    "url_1 = 'https://apteka.de'\n",
    "url = 'https://apteka.de/online-shop/allergie-heuschnupfen'\n",
    "\n",
    "while True:\n",
    "    page = requests.get(url)\n",
    "    soup = BeautifulSoup(page.content, 'html.parser')\n",
    "    next_page_link = soup.find('a', ('class', 'arrow next'))\n",
    "    result = soup.find_all('div', ('class', 'product-box-container'))\n",
    "\n",
    "    url_2 = []\n",
    "    for i in result:\n",
    "        for link in i.find_all('div', ('class', 'product-box__image')):\n",
    "            url_2.append(link.find('a').get('href'))\n",
    "\n",
    "    url_joined = []\n",
    "\n",
    "    for link in url_2:\n",
    "        url_joined.append(urllib.parse.urljoin(url_1, link))\n",
    "\n",
    "    for i in url_joined:\n",
    "        response = requests.get(i)\n",
    "        soup = BeautifulSoup(response.content, 'html.parser')\n",
    "\n",
    "        #name\n",
    "        try:\n",
    "            name.append(soup.find('h1', ('class', 'h2 mt-0 sm:mb-6')).text)\n",
    "        except:\n",
    "            name.append('')\n",
    "\n",
    "        #price\n",
    "        try:\n",
    "            p = soup.find('p', ('class', 'price-details text-grey-darker text-4xl font-sans font-bold mb-0')).find('span').text\n",
    "            p = p.replace(',', '.')\n",
    "            p = float(re.sub(r'[^\\d.]+', '', p))\n",
    "            price.append(p)\n",
    "        except:\n",
    "            price.append('')\n",
    "\n",
    "        #form\n",
    "        try:\n",
    "            form.append(soup.find('div', string=re.compile(\"Форма выпуска:\")).get_text(strip=True)[15:])\n",
    "        except:\n",
    "            form.append('')\n",
    "\n",
    "        #content\n",
    "        try:\n",
    "            cont = soup.find('div', string=re.compile('Содержание:')).get_text(strip=True)\n",
    "            cont = int(re.findall(r'\\d+', cont)[0])\n",
    "            content.append(cont)\n",
    "        except:\n",
    "            content.append('')\n",
    "\n",
    "        #manufacturer\n",
    "        try:\n",
    "            manufacturer.append(soup.find('div', string=re.compile(\"Производитель:\")).get_text(strip=True)[15:])\n",
    "        except:\n",
    "            manufacturer.append('')\n",
    "\n",
    "        output = {'Name': name, 'Price': price, 'Form': form, 'Content': content, 'Manufacturer': manufacturer}\n",
    "\n",
    "    if not next_page_link:\n",
    "        break\n",
    "\n",
    "    url = url_1 + next_page_link['href']"
   ]
  },
  {
   "cell_type": "code",
   "execution_count": 73,
   "id": "11bc4eb2-fb73-4a44-9b07-cfc4461373e2",
   "metadata": {},
   "outputs": [
    {
     "data": {
      "text/html": [
       "<div>\n",
       "<style scoped>\n",
       "    .dataframe tbody tr th:only-of-type {\n",
       "        vertical-align: middle;\n",
       "    }\n",
       "\n",
       "    .dataframe tbody tr th {\n",
       "        vertical-align: top;\n",
       "    }\n",
       "\n",
       "    .dataframe thead th {\n",
       "        text-align: right;\n",
       "    }\n",
       "</style>\n",
       "<table border=\"1\" class=\"dataframe\">\n",
       "  <thead>\n",
       "    <tr style=\"text-align: right;\">\n",
       "      <th></th>\n",
       "      <th>Name</th>\n",
       "      <th>Price</th>\n",
       "      <th>Form</th>\n",
       "      <th>Content</th>\n",
       "      <th>Manufacturer</th>\n",
       "    </tr>\n",
       "  </thead>\n",
       "  <tbody>\n",
       "    <tr>\n",
       "      <th>0</th>\n",
       "      <td>Allegra Allergietabletten 20 mg 20 St</td>\n",
       "      <td>7.79</td>\n",
       "      <td>Tabletten</td>\n",
       "      <td>20</td>\n",
       "      <td>A. Nattermann &amp; Cie GmbH</td>\n",
       "    </tr>\n",
       "    <tr>\n",
       "      <th>1</th>\n",
       "      <td>Allergodil akut forte 1,5 mg/ml Nasenspray Lös...</td>\n",
       "      <td>9.69</td>\n",
       "      <td>Nasenspray</td>\n",
       "      <td>10</td>\n",
       "      <td>Viatris Healthcare GmbH</td>\n",
       "    </tr>\n",
       "    <tr>\n",
       "      <th>2</th>\n",
       "      <td>Vividrin Azelastin EDO, bei Heuschnupfen und A...</td>\n",
       "      <td>6.99</td>\n",
       "      <td>Augentropfen</td>\n",
       "      <td>20</td>\n",
       "      <td>Dr. Gerhard Mann Chem.-pharm.Fabrik GmbH</td>\n",
       "    </tr>\n",
       "    <tr>\n",
       "      <th>3</th>\n",
       "      <td>Desloratadin-Adgc 5 mg Filmtabletten 100 St</td>\n",
       "      <td>15.56</td>\n",
       "      <td>Filmtabletten</td>\n",
       "      <td>100</td>\n",
       "      <td>Zentiva Pharma GmbH</td>\n",
       "    </tr>\n",
       "    <tr>\n",
       "      <th>4</th>\n",
       "      <td>Desloratadin-Adgc 5 mg Filmtabletten 50 St</td>\n",
       "      <td>8.32</td>\n",
       "      <td>Filmtabletten</td>\n",
       "      <td>50</td>\n",
       "      <td>Zentiva Pharma GmbH</td>\n",
       "    </tr>\n",
       "    <tr>\n",
       "      <th>...</th>\n",
       "      <td>...</td>\n",
       "      <td>...</td>\n",
       "      <td>...</td>\n",
       "      <td>...</td>\n",
       "      <td>...</td>\n",
       "    </tr>\n",
       "    <tr>\n",
       "      <th>139</th>\n",
       "      <td>Livocab direkt Augentropfen bei Allergie 4 ml</td>\n",
       "      <td>8.99</td>\n",
       "      <td>Augentropfen</td>\n",
       "      <td>4</td>\n",
       "      <td>Johnson &amp; Johnson GmbH (OTC)</td>\n",
       "    </tr>\n",
       "    <tr>\n",
       "      <th>140</th>\n",
       "      <td>Livocab direkt Nasenspray bei Allergie 5 ml</td>\n",
       "      <td>6.49</td>\n",
       "      <td>Nasenspray</td>\n",
       "      <td>5</td>\n",
       "      <td>Johnson &amp; Johnson GmbH (OTC)</td>\n",
       "    </tr>\n",
       "    <tr>\n",
       "      <th>141</th>\n",
       "      <td>Allergodil Augentropfen 6 ml</td>\n",
       "      <td>12.97</td>\n",
       "      <td>Augentropfen</td>\n",
       "      <td>6</td>\n",
       "      <td>Viatris Healthcare GmbH</td>\n",
       "    </tr>\n",
       "    <tr>\n",
       "      <th>142</th>\n",
       "      <td>Cetirizin AL 1 mg/ml Sirup 75 ml</td>\n",
       "      <td>6.40</td>\n",
       "      <td>Lösung zum Einnehmen</td>\n",
       "      <td>75</td>\n",
       "      <td>ALIUD Pharma GmbH</td>\n",
       "    </tr>\n",
       "    <tr>\n",
       "      <th>143</th>\n",
       "      <td>Cetirizin AL 1 mg/ml Sirup 2X75 ml</td>\n",
       "      <td>11.40</td>\n",
       "      <td>Lösung zum Einnehmen</td>\n",
       "      <td>2</td>\n",
       "      <td>ALIUD Pharma GmbH</td>\n",
       "    </tr>\n",
       "  </tbody>\n",
       "</table>\n",
       "<p>144 rows × 5 columns</p>\n",
       "</div>"
      ],
      "text/plain": [
       "                                                  Name  Price  \\\n",
       "0                Allegra Allergietabletten 20 mg 20 St   7.79   \n",
       "1    Allergodil akut forte 1,5 mg/ml Nasenspray Lös...   9.69   \n",
       "2    Vividrin Azelastin EDO, bei Heuschnupfen und A...   6.99   \n",
       "3          Desloratadin-Adgc 5 mg Filmtabletten 100 St  15.56   \n",
       "4           Desloratadin-Adgc 5 mg Filmtabletten 50 St   8.32   \n",
       "..                                                 ...    ...   \n",
       "139      Livocab direkt Augentropfen bei Allergie 4 ml   8.99   \n",
       "140        Livocab direkt Nasenspray bei Allergie 5 ml   6.49   \n",
       "141                       Allergodil Augentropfen 6 ml  12.97   \n",
       "142                   Cetirizin AL 1 mg/ml Sirup 75 ml   6.40   \n",
       "143                 Cetirizin AL 1 mg/ml Sirup 2X75 ml  11.40   \n",
       "\n",
       "                     Form  Content                              Manufacturer  \n",
       "0               Tabletten       20                  A. Nattermann & Cie GmbH  \n",
       "1              Nasenspray       10                   Viatris Healthcare GmbH  \n",
       "2            Augentropfen       20  Dr. Gerhard Mann Chem.-pharm.Fabrik GmbH  \n",
       "3           Filmtabletten      100                       Zentiva Pharma GmbH  \n",
       "4           Filmtabletten       50                       Zentiva Pharma GmbH  \n",
       "..                    ...      ...                                       ...  \n",
       "139          Augentropfen        4              Johnson & Johnson GmbH (OTC)  \n",
       "140            Nasenspray        5              Johnson & Johnson GmbH (OTC)  \n",
       "141          Augentropfen        6                   Viatris Healthcare GmbH  \n",
       "142  Lösung zum Einnehmen       75                         ALIUD Pharma GmbH  \n",
       "143  Lösung zum Einnehmen        2                         ALIUD Pharma GmbH  \n",
       "\n",
       "[144 rows x 5 columns]"
      ]
     },
     "execution_count": 73,
     "metadata": {},
     "output_type": "execute_result"
    }
   ],
   "source": [
    "df = pd.DataFrame(output)\n",
    "df"
   ]
  },
  {
   "cell_type": "code",
   "execution_count": 74,
   "id": "dcf29e0c-7089-490f-ae18-ac692cfc77b2",
   "metadata": {},
   "outputs": [],
   "source": [
    "df.to_csv('pharmacy.csv')"
   ]
  }
 ],
 "metadata": {
  "kernelspec": {
   "display_name": "Python 3 (ipykernel)",
   "language": "python",
   "name": "python3"
  },
  "language_info": {
   "codemirror_mode": {
    "name": "ipython",
    "version": 3
   },
   "file_extension": ".py",
   "mimetype": "text/x-python",
   "name": "python",
   "nbconvert_exporter": "python",
   "pygments_lexer": "ipython3",
   "version": "3.11.9"
  }
 },
 "nbformat": 4,
 "nbformat_minor": 5
}
